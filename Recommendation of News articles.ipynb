{
 "cells": [
  {
   "cell_type": "code",
   "execution_count": 1,
   "metadata": {},
   "outputs": [],
   "source": [
    "import numpy as np\n",
    "import pandas as pd\n",
    "\n",
    "import os\n",
    "import math\n",
    "import time\n",
    "\n",
    "import matplotlib.pyplot as plt\n",
    "import seaborn as sns\n",
    "\n",
    "\n",
    "from nltk.corpus import stopwords\n",
    "from nltk.tokenize import word_tokenize\n",
    "from nltk.stem import WordNetLemmatizer\n",
    "\n",
    "from sklearn.feature_extraction.text import CountVectorizer\n",
    "from sklearn.feature_extraction.text import TfidfVectorizer\n",
    "\n",
    "from sklearn.metrics.pairwise import cosine_similarity  \n",
    "from sklearn.metrics import pairwise_distances"
   ]
  },
  {
   "cell_type": "code",
   "execution_count": 2,
   "metadata": {},
   "outputs": [],
   "source": [
    "dataset = pd.read_json('newsdataset.json',lines = True)"
   ]
  },
  {
   "cell_type": "code",
   "execution_count": 3,
   "metadata": {},
   "outputs": [
    {
     "name": "stdout",
     "output_type": "stream",
     "text": [
      "<class 'pandas.core.frame.DataFrame'>\n",
      "RangeIndex: 200853 entries, 0 to 200852\n",
      "Data columns (total 6 columns):\n",
      " #   Column             Non-Null Count   Dtype         \n",
      "---  ------             --------------   -----         \n",
      " 0   category           200853 non-null  object        \n",
      " 1   headline           200853 non-null  object        \n",
      " 2   authors            200853 non-null  object        \n",
      " 3   link               200853 non-null  object        \n",
      " 4   short_description  200853 non-null  object        \n",
      " 5   date               200853 non-null  datetime64[ns]\n",
      "dtypes: datetime64[ns](1), object(5)\n",
      "memory usage: 9.2+ MB\n"
     ]
    }
   ],
   "source": [
    "dataset.info()"
   ]
  },
  {
   "cell_type": "code",
   "execution_count": 4,
   "metadata": {},
   "outputs": [
    {
     "data": {
      "text/html": [
       "<div>\n",
       "<style scoped>\n",
       "    .dataframe tbody tr th:only-of-type {\n",
       "        vertical-align: middle;\n",
       "    }\n",
       "\n",
       "    .dataframe tbody tr th {\n",
       "        vertical-align: top;\n",
       "    }\n",
       "\n",
       "    .dataframe thead th {\n",
       "        text-align: right;\n",
       "    }\n",
       "</style>\n",
       "<table border=\"1\" class=\"dataframe\">\n",
       "  <thead>\n",
       "    <tr style=\"text-align: right;\">\n",
       "      <th></th>\n",
       "      <th>category</th>\n",
       "      <th>headline</th>\n",
       "      <th>authors</th>\n",
       "      <th>link</th>\n",
       "      <th>short_description</th>\n",
       "      <th>date</th>\n",
       "    </tr>\n",
       "  </thead>\n",
       "  <tbody>\n",
       "    <tr>\n",
       "      <th>0</th>\n",
       "      <td>CRIME</td>\n",
       "      <td>There Were 2 Mass Shootings In Texas Last Week...</td>\n",
       "      <td>Melissa Jeltsen</td>\n",
       "      <td>https://www.huffingtonpost.com/entry/texas-ama...</td>\n",
       "      <td>She left her husband. He killed their children...</td>\n",
       "      <td>2018-05-26</td>\n",
       "    </tr>\n",
       "    <tr>\n",
       "      <th>1</th>\n",
       "      <td>ENTERTAINMENT</td>\n",
       "      <td>Will Smith Joins Diplo And Nicky Jam For The 2...</td>\n",
       "      <td>Andy McDonald</td>\n",
       "      <td>https://www.huffingtonpost.com/entry/will-smit...</td>\n",
       "      <td>Of course it has a song.</td>\n",
       "      <td>2018-05-26</td>\n",
       "    </tr>\n",
       "    <tr>\n",
       "      <th>2</th>\n",
       "      <td>ENTERTAINMENT</td>\n",
       "      <td>Hugh Grant Marries For The First Time At Age 57</td>\n",
       "      <td>Ron Dicker</td>\n",
       "      <td>https://www.huffingtonpost.com/entry/hugh-gran...</td>\n",
       "      <td>The actor and his longtime girlfriend Anna Ebe...</td>\n",
       "      <td>2018-05-26</td>\n",
       "    </tr>\n",
       "    <tr>\n",
       "      <th>3</th>\n",
       "      <td>ENTERTAINMENT</td>\n",
       "      <td>Jim Carrey Blasts 'Castrato' Adam Schiff And D...</td>\n",
       "      <td>Ron Dicker</td>\n",
       "      <td>https://www.huffingtonpost.com/entry/jim-carre...</td>\n",
       "      <td>The actor gives Dems an ass-kicking for not fi...</td>\n",
       "      <td>2018-05-26</td>\n",
       "    </tr>\n",
       "    <tr>\n",
       "      <th>4</th>\n",
       "      <td>ENTERTAINMENT</td>\n",
       "      <td>Julianna Margulies Uses Donald Trump Poop Bags...</td>\n",
       "      <td>Ron Dicker</td>\n",
       "      <td>https://www.huffingtonpost.com/entry/julianna-...</td>\n",
       "      <td>The \"Dietland\" actress said using the bags is ...</td>\n",
       "      <td>2018-05-26</td>\n",
       "    </tr>\n",
       "  </tbody>\n",
       "</table>\n",
       "</div>"
      ],
      "text/plain": [
       "        category                                           headline  \\\n",
       "0          CRIME  There Were 2 Mass Shootings In Texas Last Week...   \n",
       "1  ENTERTAINMENT  Will Smith Joins Diplo And Nicky Jam For The 2...   \n",
       "2  ENTERTAINMENT    Hugh Grant Marries For The First Time At Age 57   \n",
       "3  ENTERTAINMENT  Jim Carrey Blasts 'Castrato' Adam Schiff And D...   \n",
       "4  ENTERTAINMENT  Julianna Margulies Uses Donald Trump Poop Bags...   \n",
       "\n",
       "           authors                                               link  \\\n",
       "0  Melissa Jeltsen  https://www.huffingtonpost.com/entry/texas-ama...   \n",
       "1    Andy McDonald  https://www.huffingtonpost.com/entry/will-smit...   \n",
       "2       Ron Dicker  https://www.huffingtonpost.com/entry/hugh-gran...   \n",
       "3       Ron Dicker  https://www.huffingtonpost.com/entry/jim-carre...   \n",
       "4       Ron Dicker  https://www.huffingtonpost.com/entry/julianna-...   \n",
       "\n",
       "                                   short_description       date  \n",
       "0  She left her husband. He killed their children... 2018-05-26  \n",
       "1                           Of course it has a song. 2018-05-26  \n",
       "2  The actor and his longtime girlfriend Anna Ebe... 2018-05-26  \n",
       "3  The actor gives Dems an ass-kicking for not fi... 2018-05-26  \n",
       "4  The \"Dietland\" actress said using the bags is ... 2018-05-26  "
      ]
     },
     "execution_count": 4,
     "metadata": {},
     "output_type": "execute_result"
    }
   ],
   "source": [
    "dataset.head()"
   ]
  },
  {
   "cell_type": "code",
   "execution_count": 5,
   "metadata": {},
   "outputs": [
    {
     "name": "stdout",
     "output_type": "stream",
     "text": [
      "180543\n"
     ]
    }
   ],
   "source": [
    "dataset = dataset[dataset['headline'].apply(lambda x:len(x.split())>5)]\n",
    "print(dataset.shape[0])"
   ]
  },
  {
   "cell_type": "code",
   "execution_count": 6,
   "metadata": {},
   "outputs": [],
   "source": [
    "dataset  = dataset[dataset['date']>=pd.Timestamp(2018,1,1)]"
   ]
  },
  {
   "cell_type": "code",
   "execution_count": 7,
   "metadata": {},
   "outputs": [
    {
     "name": "stdout",
     "output_type": "stream",
     "text": [
      "8530\n"
     ]
    }
   ],
   "source": [
    "print(dataset.shape[0])"
   ]
  },
  {
   "cell_type": "code",
   "execution_count": 8,
   "metadata": {},
   "outputs": [
    {
     "name": "stdout",
     "output_type": "stream",
     "text": [
      "8485\n"
     ]
    }
   ],
   "source": [
    "dataset.sort_values('headline',inplace=True,ascending=False)\n",
    "dups = dataset.duplicated('headline',keep = False)\n",
    "dataset = dataset[~dups]\n",
    "print(dataset.shape[0])"
   ]
  },
  {
   "cell_type": "code",
   "execution_count": 9,
   "metadata": {},
   "outputs": [
    {
     "data": {
      "text/plain": [
       "category             0\n",
       "headline             0\n",
       "authors              0\n",
       "link                 0\n",
       "short_description    0\n",
       "date                 0\n",
       "dtype: int64"
      ]
     },
     "execution_count": 9,
     "metadata": {},
     "output_type": "execute_result"
    }
   ],
   "source": [
    "dataset.isna().sum()"
   ]
  },
  {
   "cell_type": "code",
   "execution_count": 10,
   "metadata": {},
   "outputs": [
    {
     "name": "stdout",
     "output_type": "stream",
     "text": [
      "26\n"
     ]
    }
   ],
   "source": [
    "print(dataset['category'].nunique())"
   ]
  },
  {
   "cell_type": "code",
   "execution_count": 11,
   "metadata": {},
   "outputs": [
    {
     "name": "stdout",
     "output_type": "stream",
     "text": [
      "total categories: 26\n",
      "category\n",
      "ARTS & CULTURE      13\n",
      "BLACK VOICES       406\n",
      "BUSINESS            85\n",
      "COLLEGE              1\n",
      "COMEDY             443\n",
      "CRIME              170\n",
      "EDUCATION           31\n",
      "ENTERTAINMENT     1699\n",
      "GREEN               28\n",
      "HEALTHY LIVING      15\n",
      "IMPACT              73\n",
      "LATINO VOICES       83\n",
      "MEDIA              290\n",
      "PARENTS             32\n",
      "POLITICS          3042\n",
      "QUEER VOICES       451\n",
      "RELIGION            63\n",
      "SCIENCE             40\n",
      "SPORTS             364\n",
      "STYLE               34\n",
      "TASTE                9\n",
      "TECH                53\n",
      "TRAVEL              72\n",
      "WEIRD NEWS         205\n",
      "WOMEN              226\n",
      "WORLD NEWS         557\n",
      "dtype: int64\n"
     ]
    }
   ],
   "source": [
    "categories = dataset.groupby('category')\n",
    "print('total categories: {}'.format(categories.ngroups))\n",
    "print(categories.size())"
   ]
  },
  {
   "cell_type": "code",
   "execution_count": 12,
   "metadata": {},
   "outputs": [],
   "source": [
    "dataset.index = range(dataset.shape[0])"
   ]
  },
  {
   "cell_type": "code",
   "execution_count": 13,
   "metadata": {},
   "outputs": [],
   "source": [
    "dataset[\"day and month\"] = dataset[\"date\"].dt.strftime(\"%a\") + \"_\" + dataset[\"date\"].dt.strftime(\"%b\")"
   ]
  },
  {
   "cell_type": "code",
   "execution_count": 14,
   "metadata": {},
   "outputs": [],
   "source": [
    "dataset_cp = dataset.copy()"
   ]
  },
  {
   "cell_type": "code",
   "execution_count": 15,
   "metadata": {},
   "outputs": [],
   "source": [
    "\n",
    "stop = stopwords.words('english')"
   ]
  },
  {
   "cell_type": "code",
   "execution_count": 16,
   "metadata": {},
   "outputs": [
    {
     "name": "stdout",
     "output_type": "stream",
     "text": [
      "0\n",
      "1000\n",
      "2000\n",
      "3000\n",
      "4000\n",
      "5000\n",
      "6000\n",
      "7000\n",
      "8000\n"
     ]
    }
   ],
   "source": [
    "for i in range(len(dataset_cp[\"headline\"])):\n",
    "    string = \"\"\n",
    "    for word in dataset_cp[\"headline\"][i].split():\n",
    "        ss = (\"\".join(e for e in word if e.isalnum()))\n",
    "        ss = ss.lower()\n",
    "        if not ss in stop:\n",
    "          string += ss + \" \"  \n",
    "    if(i%1000==0):\n",
    "      print(i)           # To track number of records processed\n",
    "    dataset_cp.at[i,\"headline\"] = string.strip()"
   ]
  },
  {
   "cell_type": "code",
   "execution_count": 17,
   "metadata": {},
   "outputs": [
    {
     "data": {
      "text/html": [
       "<div>\n",
       "<style scoped>\n",
       "    .dataframe tbody tr th:only-of-type {\n",
       "        vertical-align: middle;\n",
       "    }\n",
       "\n",
       "    .dataframe tbody tr th {\n",
       "        vertical-align: top;\n",
       "    }\n",
       "\n",
       "    .dataframe thead th {\n",
       "        text-align: right;\n",
       "    }\n",
       "</style>\n",
       "<table border=\"1\" class=\"dataframe\">\n",
       "  <thead>\n",
       "    <tr style=\"text-align: right;\">\n",
       "      <th></th>\n",
       "      <th>category</th>\n",
       "      <th>headline</th>\n",
       "      <th>authors</th>\n",
       "      <th>link</th>\n",
       "      <th>short_description</th>\n",
       "      <th>date</th>\n",
       "      <th>day and month</th>\n",
       "    </tr>\n",
       "  </thead>\n",
       "  <tbody>\n",
       "    <tr>\n",
       "      <th>0</th>\n",
       "      <td>QUEER VOICES</td>\n",
       "      <td>grace creator donate gay bunny book every grad...</td>\n",
       "      <td>Elyse Wanshel</td>\n",
       "      <td>https://www.huffingtonpost.com/entry/will-grac...</td>\n",
       "      <td>It's about to be a lot easier for kids in Mike...</td>\n",
       "      <td>2018-04-02</td>\n",
       "      <td>Mon_Apr</td>\n",
       "    </tr>\n",
       "    <tr>\n",
       "      <th>1</th>\n",
       "      <td>QUEER VOICES</td>\n",
       "      <td>voice blind auditions make history first trans...</td>\n",
       "      <td>Lyndsey Parker, Yahoo Entertainment</td>\n",
       "      <td>https://www.huffingtonpost.com/entry/the-voice...</td>\n",
       "      <td>Austin Giorgio, 21: “How Sweet It Is (To Be Lo...</td>\n",
       "      <td>2018-03-06</td>\n",
       "      <td>Tue_Mar</td>\n",
       "    </tr>\n",
       "    <tr>\n",
       "      <th>2</th>\n",
       "      <td>QUEER VOICES</td>\n",
       "      <td>penumbra queer audio drama didnt know needed</td>\n",
       "      <td>Sarah Emily Baum, ContributorFreelance Writer</td>\n",
       "      <td>https://www.huffingtonpost.com/entry/the-penum...</td>\n",
       "      <td>Young, fun, fantastical and, most notably, inc...</td>\n",
       "      <td>2018-01-05</td>\n",
       "      <td>Fri_Jan</td>\n",
       "    </tr>\n",
       "    <tr>\n",
       "      <th>3</th>\n",
       "      <td>COMEDY</td>\n",
       "      <td>opposition gives trump hot lawyer</td>\n",
       "      <td>Ed Mazza</td>\n",
       "      <td>https://www.huffingtonpost.com/entry/trump-hot...</td>\n",
       "      <td>He's here to make a \"strong case\" for the pres...</td>\n",
       "      <td>2018-05-11</td>\n",
       "      <td>Fri_May</td>\n",
       "    </tr>\n",
       "    <tr>\n",
       "      <th>4</th>\n",
       "      <td>ENTERTAINMENT</td>\n",
       "      <td>stranger things fans able visit upside irl</td>\n",
       "      <td>Elyse Wanshel</td>\n",
       "      <td>https://www.huffingtonpost.com/entry/stranger-...</td>\n",
       "      <td>Hawkins is headed to Hollywood, Orlando and Si...</td>\n",
       "      <td>2018-04-03</td>\n",
       "      <td>Tue_Apr</td>\n",
       "    </tr>\n",
       "  </tbody>\n",
       "</table>\n",
       "</div>"
      ],
      "text/plain": [
       "        category                                           headline  \\\n",
       "0   QUEER VOICES  grace creator donate gay bunny book every grad...   \n",
       "1   QUEER VOICES  voice blind auditions make history first trans...   \n",
       "2   QUEER VOICES       penumbra queer audio drama didnt know needed   \n",
       "3         COMEDY                  opposition gives trump hot lawyer   \n",
       "4  ENTERTAINMENT         stranger things fans able visit upside irl   \n",
       "\n",
       "                                         authors  \\\n",
       "0                                  Elyse Wanshel   \n",
       "1            Lyndsey Parker, Yahoo Entertainment   \n",
       "2  Sarah Emily Baum, ContributorFreelance Writer   \n",
       "3                                       Ed Mazza   \n",
       "4                                  Elyse Wanshel   \n",
       "\n",
       "                                                link  \\\n",
       "0  https://www.huffingtonpost.com/entry/will-grac...   \n",
       "1  https://www.huffingtonpost.com/entry/the-voice...   \n",
       "2  https://www.huffingtonpost.com/entry/the-penum...   \n",
       "3  https://www.huffingtonpost.com/entry/trump-hot...   \n",
       "4  https://www.huffingtonpost.com/entry/stranger-...   \n",
       "\n",
       "                                   short_description       date day and month  \n",
       "0  It's about to be a lot easier for kids in Mike... 2018-04-02       Mon_Apr  \n",
       "1  Austin Giorgio, 21: “How Sweet It Is (To Be Lo... 2018-03-06       Tue_Mar  \n",
       "2  Young, fun, fantastical and, most notably, inc... 2018-01-05       Fri_Jan  \n",
       "3  He's here to make a \"strong case\" for the pres... 2018-05-11       Fri_May  \n",
       "4  Hawkins is headed to Hollywood, Orlando and Si... 2018-04-03       Tue_Apr  "
      ]
     },
     "execution_count": 17,
     "metadata": {},
     "output_type": "execute_result"
    }
   ],
   "source": [
    "dataset_cp.head()"
   ]
  },
  {
   "cell_type": "code",
   "execution_count": 18,
   "metadata": {},
   "outputs": [
    {
     "name": "stderr",
     "output_type": "stream",
     "text": [
      "[nltk_data] Downloading package punkt to\n",
      "[nltk_data]     C:\\Users\\NIRANJAN\\AppData\\Roaming\\nltk_data...\n",
      "[nltk_data]   Package punkt is already up-to-date!\n",
      "[nltk_data] Downloading package wordnet to\n",
      "[nltk_data]     C:\\Users\\NIRANJAN\\AppData\\Roaming\\nltk_data...\n",
      "[nltk_data]   Package wordnet is already up-to-date!\n"
     ]
    },
    {
     "data": {
      "text/plain": [
       "True"
      ]
     },
     "execution_count": 18,
     "metadata": {},
     "output_type": "execute_result"
    }
   ],
   "source": [
    "lemmatizer = WordNetLemmatizer()\n",
    "import nltk\n",
    "nltk.download('punkt')\n",
    "nltk.download('wordnet')\n",
    " "
   ]
  },
  {
   "cell_type": "code",
   "execution_count": 19,
   "metadata": {},
   "outputs": [],
   "source": [
    "for i in range(len(dataset_cp['headline'])):\n",
    "    string = \"\"\n",
    "    for w in word_tokenize(dataset_cp['headline'][i]):\n",
    "        string += lemmatizer.lemmatize(w,pos='v') + \" \"\n",
    "    dataset_cp.at[i,'headline'] = string.strip()\n",
    "    "
   ]
  },
  {
   "cell_type": "code",
   "execution_count": 20,
   "metadata": {},
   "outputs": [
    {
     "data": {
      "text/html": [
       "<div>\n",
       "<style scoped>\n",
       "    .dataframe tbody tr th:only-of-type {\n",
       "        vertical-align: middle;\n",
       "    }\n",
       "\n",
       "    .dataframe tbody tr th {\n",
       "        vertical-align: top;\n",
       "    }\n",
       "\n",
       "    .dataframe thead th {\n",
       "        text-align: right;\n",
       "    }\n",
       "</style>\n",
       "<table border=\"1\" class=\"dataframe\">\n",
       "  <thead>\n",
       "    <tr style=\"text-align: right;\">\n",
       "      <th></th>\n",
       "      <th>category</th>\n",
       "      <th>headline</th>\n",
       "      <th>authors</th>\n",
       "      <th>link</th>\n",
       "      <th>short_description</th>\n",
       "      <th>date</th>\n",
       "      <th>day and month</th>\n",
       "    </tr>\n",
       "  </thead>\n",
       "  <tbody>\n",
       "    <tr>\n",
       "      <th>0</th>\n",
       "      <td>QUEER VOICES</td>\n",
       "      <td>grace creator donate gay bunny book every grad...</td>\n",
       "      <td>Elyse Wanshel</td>\n",
       "      <td>https://www.huffingtonpost.com/entry/will-grac...</td>\n",
       "      <td>It's about to be a lot easier for kids in Mike...</td>\n",
       "      <td>2018-04-02</td>\n",
       "      <td>Mon_Apr</td>\n",
       "    </tr>\n",
       "    <tr>\n",
       "      <th>1</th>\n",
       "      <td>QUEER VOICES</td>\n",
       "      <td>voice blind audition make history first trans ...</td>\n",
       "      <td>Lyndsey Parker, Yahoo Entertainment</td>\n",
       "      <td>https://www.huffingtonpost.com/entry/the-voice...</td>\n",
       "      <td>Austin Giorgio, 21: “How Sweet It Is (To Be Lo...</td>\n",
       "      <td>2018-03-06</td>\n",
       "      <td>Tue_Mar</td>\n",
       "    </tr>\n",
       "    <tr>\n",
       "      <th>2</th>\n",
       "      <td>QUEER VOICES</td>\n",
       "      <td>penumbra queer audio drama didnt know need</td>\n",
       "      <td>Sarah Emily Baum, ContributorFreelance Writer</td>\n",
       "      <td>https://www.huffingtonpost.com/entry/the-penum...</td>\n",
       "      <td>Young, fun, fantastical and, most notably, inc...</td>\n",
       "      <td>2018-01-05</td>\n",
       "      <td>Fri_Jan</td>\n",
       "    </tr>\n",
       "    <tr>\n",
       "      <th>3</th>\n",
       "      <td>COMEDY</td>\n",
       "      <td>opposition give trump hot lawyer</td>\n",
       "      <td>Ed Mazza</td>\n",
       "      <td>https://www.huffingtonpost.com/entry/trump-hot...</td>\n",
       "      <td>He's here to make a \"strong case\" for the pres...</td>\n",
       "      <td>2018-05-11</td>\n",
       "      <td>Fri_May</td>\n",
       "    </tr>\n",
       "    <tr>\n",
       "      <th>4</th>\n",
       "      <td>ENTERTAINMENT</td>\n",
       "      <td>stranger things fan able visit upside irl</td>\n",
       "      <td>Elyse Wanshel</td>\n",
       "      <td>https://www.huffingtonpost.com/entry/stranger-...</td>\n",
       "      <td>Hawkins is headed to Hollywood, Orlando and Si...</td>\n",
       "      <td>2018-04-03</td>\n",
       "      <td>Tue_Apr</td>\n",
       "    </tr>\n",
       "  </tbody>\n",
       "</table>\n",
       "</div>"
      ],
      "text/plain": [
       "        category                                           headline  \\\n",
       "0   QUEER VOICES  grace creator donate gay bunny book every grad...   \n",
       "1   QUEER VOICES  voice blind audition make history first trans ...   \n",
       "2   QUEER VOICES         penumbra queer audio drama didnt know need   \n",
       "3         COMEDY                   opposition give trump hot lawyer   \n",
       "4  ENTERTAINMENT          stranger things fan able visit upside irl   \n",
       "\n",
       "                                         authors  \\\n",
       "0                                  Elyse Wanshel   \n",
       "1            Lyndsey Parker, Yahoo Entertainment   \n",
       "2  Sarah Emily Baum, ContributorFreelance Writer   \n",
       "3                                       Ed Mazza   \n",
       "4                                  Elyse Wanshel   \n",
       "\n",
       "                                                link  \\\n",
       "0  https://www.huffingtonpost.com/entry/will-grac...   \n",
       "1  https://www.huffingtonpost.com/entry/the-voice...   \n",
       "2  https://www.huffingtonpost.com/entry/the-penum...   \n",
       "3  https://www.huffingtonpost.com/entry/trump-hot...   \n",
       "4  https://www.huffingtonpost.com/entry/stranger-...   \n",
       "\n",
       "                                   short_description       date day and month  \n",
       "0  It's about to be a lot easier for kids in Mike... 2018-04-02       Mon_Apr  \n",
       "1  Austin Giorgio, 21: “How Sweet It Is (To Be Lo... 2018-03-06       Tue_Mar  \n",
       "2  Young, fun, fantastical and, most notably, inc... 2018-01-05       Fri_Jan  \n",
       "3  He's here to make a \"strong case\" for the pres... 2018-05-11       Fri_May  \n",
       "4  Hawkins is headed to Hollywood, Orlando and Si... 2018-04-03       Tue_Apr  "
      ]
     },
     "execution_count": 20,
     "metadata": {},
     "output_type": "execute_result"
    }
   ],
   "source": [
    "dataset_cp.head()"
   ]
  },
  {
   "cell_type": "code",
   "execution_count": 21,
   "metadata": {},
   "outputs": [],
   "source": [
    "headline_vectorizer = CountVectorizer()\n",
    "headline_features = headline_vectorizer.fit_transform(dataset_cp['headline'])"
   ]
  },
  {
   "cell_type": "code",
   "execution_count": 22,
   "metadata": {},
   "outputs": [
    {
     "name": "stdout",
     "output_type": "stream",
     "text": [
      "(8485, 11122)\n"
     ]
    }
   ],
   "source": [
    "print(headline_features.shape)"
   ]
  },
  {
   "cell_type": "code",
   "execution_count": 23,
   "metadata": {},
   "outputs": [],
   "source": [
    "pd.set_option('display.max_colwidth', None) "
   ]
  },
  {
   "cell_type": "code",
   "execution_count": 24,
   "metadata": {},
   "outputs": [],
   "source": [
    "def bag_of_words(row_index,sim_items):\n",
    "    couple_dist = pairwise_distances(headline_features,headline_features[sim_items])\n",
    "    indices = np.argsort(couple_dist.ravel())[0:sim_items]\n",
    "    df = pd.DataFrame({'publish_date':dataset['date'][indices].values,\n",
    "                      'headline':dataset['headline'][indices].values,\n",
    "                      'similarity':couple_dist[indices].ravel()})\n",
    "    print(\"-\"*30,\"Queried article details \",\"-\"*30)\n",
    "    print(\"The headline is \",dataset['headline'][indices[0]])\n",
    "    print(\"\\n\",\"=\"*25,\"Recommended articles : \",\"=\"*23)\n",
    "    return df.iloc[1:,]"
   ]
  },
  {
   "cell_type": "code",
   "execution_count": 25,
   "metadata": {},
   "outputs": [
    {
     "name": "stdout",
     "output_type": "stream",
     "text": [
      "------------------------------ Queried article details  ------------------------------\n",
      "The headline is  ‘RuPaul’s Drag Race All Stars 3’ Episode 6 Recap: Which Queen Returned To The Competition?\n",
      "\n",
      " ========================= Recommended articles :  =======================\n"
     ]
    },
    {
     "data": {
      "text/html": [
       "<div>\n",
       "<style scoped>\n",
       "    .dataframe tbody tr th:only-of-type {\n",
       "        vertical-align: middle;\n",
       "    }\n",
       "\n",
       "    .dataframe tbody tr th {\n",
       "        vertical-align: top;\n",
       "    }\n",
       "\n",
       "    .dataframe thead th {\n",
       "        text-align: right;\n",
       "    }\n",
       "</style>\n",
       "<table border=\"1\" class=\"dataframe\">\n",
       "  <thead>\n",
       "    <tr style=\"text-align: right;\">\n",
       "      <th></th>\n",
       "      <th>publish_date</th>\n",
       "      <th>headline</th>\n",
       "      <th>similarity</th>\n",
       "    </tr>\n",
       "  </thead>\n",
       "  <tbody>\n",
       "    <tr>\n",
       "      <th>1</th>\n",
       "      <td>2018-03-16</td>\n",
       "      <td>'RuPaul's Drag Race All Stars 3' Episode 8 Recap: Which Queen Snatched The Crown?</td>\n",
       "      <td>2.000000</td>\n",
       "    </tr>\n",
       "    <tr>\n",
       "      <th>2</th>\n",
       "      <td>2018-02-02</td>\n",
       "      <td>‘RuPaul’s Drag Race All Stars 3’ Episode 2 Recap: Sour Milk</td>\n",
       "      <td>2.236068</td>\n",
       "    </tr>\n",
       "    <tr>\n",
       "      <th>3</th>\n",
       "      <td>2018-02-12</td>\n",
       "      <td>‘RuPaul’s Drag Race All Stars 3’ Episode 3 Recap: Who Won The Bitchelor's Heart?</td>\n",
       "      <td>2.236068</td>\n",
       "    </tr>\n",
       "    <tr>\n",
       "      <th>4</th>\n",
       "      <td>2018-02-16</td>\n",
       "      <td>‘RuPaul’s Drag Race All Stars 3’ Episode 4 Recap: Who Won Snatch Game?</td>\n",
       "      <td>2.236068</td>\n",
       "    </tr>\n",
       "    <tr>\n",
       "      <th>5</th>\n",
       "      <td>2018-01-29</td>\n",
       "      <td>‘RuPaul’s Drag Race All Stars 3’ Episode 1 Recap: Which Queen Went Home First?</td>\n",
       "      <td>2.236068</td>\n",
       "    </tr>\n",
       "    <tr>\n",
       "      <th>6</th>\n",
       "      <td>2018-03-09</td>\n",
       "      <td>‘RuPaul’s Drag Race All Stars 3’ Episode 7 Recap: We Can Never Go Back To Before</td>\n",
       "      <td>2.449490</td>\n",
       "    </tr>\n",
       "    <tr>\n",
       "      <th>7</th>\n",
       "      <td>2018-02-23</td>\n",
       "      <td>‘RuPaul’s Drag Race All Stars 3’ Episode 5 Recap: The Warhol Ball Crowns One Pop Art Queen</td>\n",
       "      <td>2.828427</td>\n",
       "    </tr>\n",
       "    <tr>\n",
       "      <th>8</th>\n",
       "      <td>2018-03-08</td>\n",
       "      <td>'RuPaul's Drag Race' Reveals Guest Judges, Stars For Season 10</td>\n",
       "      <td>3.162278</td>\n",
       "    </tr>\n",
       "    <tr>\n",
       "      <th>9</th>\n",
       "      <td>2018-03-16</td>\n",
       "      <td>Trixie Mattel Sounds Off On Shocking 'RuPaul's Drag Race All Stars' Win</td>\n",
       "      <td>3.162278</td>\n",
       "    </tr>\n",
       "    <tr>\n",
       "      <th>10</th>\n",
       "      <td>2018-01-18</td>\n",
       "      <td>'RuPaul's Drag Race' Stars Open Up About Mental Health And The Toll Of Superstardom</td>\n",
       "      <td>3.162278</td>\n",
       "    </tr>\n",
       "  </tbody>\n",
       "</table>\n",
       "</div>"
      ],
      "text/plain": [
       "   publish_date  \\\n",
       "1    2018-03-16   \n",
       "2    2018-02-02   \n",
       "3    2018-02-12   \n",
       "4    2018-02-16   \n",
       "5    2018-01-29   \n",
       "6    2018-03-09   \n",
       "7    2018-02-23   \n",
       "8    2018-03-08   \n",
       "9    2018-03-16   \n",
       "10   2018-01-18   \n",
       "\n",
       "                                                                                      headline  \\\n",
       "1            'RuPaul's Drag Race All Stars 3' Episode 8 Recap: Which Queen Snatched The Crown?   \n",
       "2                                  ‘RuPaul’s Drag Race All Stars 3’ Episode 2 Recap: Sour Milk   \n",
       "3             ‘RuPaul’s Drag Race All Stars 3’ Episode 3 Recap: Who Won The Bitchelor's Heart?   \n",
       "4                       ‘RuPaul’s Drag Race All Stars 3’ Episode 4 Recap: Who Won Snatch Game?   \n",
       "5               ‘RuPaul’s Drag Race All Stars 3’ Episode 1 Recap: Which Queen Went Home First?   \n",
       "6             ‘RuPaul’s Drag Race All Stars 3’ Episode 7 Recap: We Can Never Go Back To Before   \n",
       "7   ‘RuPaul’s Drag Race All Stars 3’ Episode 5 Recap: The Warhol Ball Crowns One Pop Art Queen   \n",
       "8                               'RuPaul's Drag Race' Reveals Guest Judges, Stars For Season 10   \n",
       "9                      Trixie Mattel Sounds Off On Shocking 'RuPaul's Drag Race All Stars' Win   \n",
       "10         'RuPaul's Drag Race' Stars Open Up About Mental Health And The Toll Of Superstardom   \n",
       "\n",
       "    similarity  \n",
       "1     2.000000  \n",
       "2     2.236068  \n",
       "3     2.236068  \n",
       "4     2.236068  \n",
       "5     2.236068  \n",
       "6     2.449490  \n",
       "7     2.828427  \n",
       "8     3.162278  \n",
       "9     3.162278  \n",
       "10    3.162278  "
      ]
     },
     "execution_count": 25,
     "metadata": {},
     "output_type": "execute_result"
    }
   ],
   "source": [
    "bag_of_words(133,11)"
   ]
  },
  {
   "cell_type": "code",
   "execution_count": 26,
   "metadata": {},
   "outputs": [],
   "source": [
    "tfidfvect = TfidfVectorizer(min_df=0)\n",
    "tfidf_headline_features = tfidfvect.fit_transform(dataset_cp['headline'])"
   ]
  },
  {
   "cell_type": "code",
   "execution_count": 27,
   "metadata": {},
   "outputs": [
    {
     "name": "stdout",
     "output_type": "stream",
     "text": [
      "============================== Queried article details ==============================\n",
      "headline :  Woman Fired After Flipping Off Trump's Motorcade Sues Former Employer\n",
      "\n",
      " ========================= Recommended articles :  =======================\n"
     ]
    },
    {
     "data": {
      "text/html": [
       "<div>\n",
       "<style scoped>\n",
       "    .dataframe tbody tr th:only-of-type {\n",
       "        vertical-align: middle;\n",
       "    }\n",
       "\n",
       "    .dataframe tbody tr th {\n",
       "        vertical-align: top;\n",
       "    }\n",
       "\n",
       "    .dataframe thead th {\n",
       "        text-align: right;\n",
       "    }\n",
       "</style>\n",
       "<table border=\"1\" class=\"dataframe\">\n",
       "  <thead>\n",
       "    <tr style=\"text-align: right;\">\n",
       "      <th></th>\n",
       "      <th>publish_date</th>\n",
       "      <th>headline</th>\n",
       "      <th>Euclidean similarity with the queried article</th>\n",
       "    </tr>\n",
       "  </thead>\n",
       "  <tbody>\n",
       "    <tr>\n",
       "      <th>1</th>\n",
       "      <td>2018-05-21</td>\n",
       "      <td>The Supreme Court Just Made It A Lot Harder For You To Sue Your Employer</td>\n",
       "      <td>1.164067</td>\n",
       "    </tr>\n",
       "    <tr>\n",
       "      <th>2</th>\n",
       "      <td>2018-04-02</td>\n",
       "      <td>The Trump Administration Is Suing California Again</td>\n",
       "      <td>1.253867</td>\n",
       "    </tr>\n",
       "    <tr>\n",
       "      <th>3</th>\n",
       "      <td>2018-04-10</td>\n",
       "      <td>Lou Dobbs Flips Out On Live TV, Urges Trump To 'Fire The SOB' Robert Mueller</td>\n",
       "      <td>1.258810</td>\n",
       "    </tr>\n",
       "    <tr>\n",
       "      <th>4</th>\n",
       "      <td>2018-04-26</td>\n",
       "      <td>Cardi B's Former Manager Sues Her For $10 Million</td>\n",
       "      <td>1.268704</td>\n",
       "    </tr>\n",
       "    <tr>\n",
       "      <th>5</th>\n",
       "      <td>2018-04-03</td>\n",
       "      <td>A Third Woman Is Suing To Break A Trump-Related Nondisclosure Agreement</td>\n",
       "      <td>1.274264</td>\n",
       "    </tr>\n",
       "    <tr>\n",
       "      <th>6</th>\n",
       "      <td>2018-02-24</td>\n",
       "      <td>Former RNC Chair Fires Back At Claim He Was Only Hired Because He Was Black</td>\n",
       "      <td>1.274847</td>\n",
       "    </tr>\n",
       "    <tr>\n",
       "      <th>7</th>\n",
       "      <td>2018-01-16</td>\n",
       "      <td>State Employer Side Payroll Taxes And Loser Liberalism</td>\n",
       "      <td>1.276696</td>\n",
       "    </tr>\n",
       "    <tr>\n",
       "      <th>8</th>\n",
       "      <td>2018-02-21</td>\n",
       "      <td>Democrats Flip Kentucky State House Seat Where Trump Won Overwhelmingly</td>\n",
       "      <td>1.282008</td>\n",
       "    </tr>\n",
       "    <tr>\n",
       "      <th>9</th>\n",
       "      <td>2018-01-09</td>\n",
       "      <td>Big Tax Game Hunting: Employer Side Payroll Taxes</td>\n",
       "      <td>1.285147</td>\n",
       "    </tr>\n",
       "    <tr>\n",
       "      <th>10</th>\n",
       "      <td>2018-02-28</td>\n",
       "      <td>Democrats Flip 2 More GOP-Held State House Seats</td>\n",
       "      <td>1.287403</td>\n",
       "    </tr>\n",
       "  </tbody>\n",
       "</table>\n",
       "</div>"
      ],
      "text/plain": [
       "   publish_date  \\\n",
       "1    2018-05-21   \n",
       "2    2018-04-02   \n",
       "3    2018-04-10   \n",
       "4    2018-04-26   \n",
       "5    2018-04-03   \n",
       "6    2018-02-24   \n",
       "7    2018-01-16   \n",
       "8    2018-02-21   \n",
       "9    2018-01-09   \n",
       "10   2018-02-28   \n",
       "\n",
       "                                                                        headline  \\\n",
       "1       The Supreme Court Just Made It A Lot Harder For You To Sue Your Employer   \n",
       "2                             The Trump Administration Is Suing California Again   \n",
       "3   Lou Dobbs Flips Out On Live TV, Urges Trump To 'Fire The SOB' Robert Mueller   \n",
       "4                              Cardi B's Former Manager Sues Her For $10 Million   \n",
       "5        A Third Woman Is Suing To Break A Trump-Related Nondisclosure Agreement   \n",
       "6    Former RNC Chair Fires Back At Claim He Was Only Hired Because He Was Black   \n",
       "7                         State Employer Side Payroll Taxes And Loser Liberalism   \n",
       "8        Democrats Flip Kentucky State House Seat Where Trump Won Overwhelmingly   \n",
       "9                              Big Tax Game Hunting: Employer Side Payroll Taxes   \n",
       "10                              Democrats Flip 2 More GOP-Held State House Seats   \n",
       "\n",
       "    Euclidean similarity with the queried article  \n",
       "1                                        1.164067  \n",
       "2                                        1.253867  \n",
       "3                                        1.258810  \n",
       "4                                        1.268704  \n",
       "5                                        1.274264  \n",
       "6                                        1.274847  \n",
       "7                                        1.276696  \n",
       "8                                        1.282008  \n",
       "9                                        1.285147  \n",
       "10                                       1.287403  "
      ]
     },
     "execution_count": 27,
     "metadata": {},
     "output_type": "execute_result"
    }
   ],
   "source": [
    "def tfidf_based_model(row_index, num_similar_items):\n",
    "    couple_dist = pairwise_distances(tfidf_headline_features,tfidf_headline_features[row_index])\n",
    "    indices = np.argsort(couple_dist.ravel())[0:num_similar_items]\n",
    "    df = pd.DataFrame({'publish_date': dataset['date'][indices].values,\n",
    "               'headline':dataset['headline'][indices].values,\n",
    "                'Euclidean similarity with the queried article': couple_dist[indices].ravel()})\n",
    "    print(\"=\"*30,\"Queried article details\",\"=\"*30)\n",
    "    print('headline : ',dataset['headline'][indices[0]])\n",
    "    print(\"\\n\",\"=\"*25,\"Recommended articles : \",\"=\"*23)\n",
    "    \n",
    "    return df.iloc[1:,]\n",
    "tfidf_based_model(133, 11)"
   ]
  }
 ],
 "metadata": {
  "kernelspec": {
   "display_name": "Python 3",
   "language": "python",
   "name": "python3"
  },
  "language_info": {
   "codemirror_mode": {
    "name": "ipython",
    "version": 3
   },
   "file_extension": ".py",
   "mimetype": "text/x-python",
   "name": "python",
   "nbconvert_exporter": "python",
   "pygments_lexer": "ipython3",
   "version": "3.7.6"
  }
 },
 "nbformat": 4,
 "nbformat_minor": 4
}
